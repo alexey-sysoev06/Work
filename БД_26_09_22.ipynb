{
  "nbformat": 4,
  "nbformat_minor": 0,
  "metadata": {
    "colab": {
      "provenance": []
    },
    "kernelspec": {
      "name": "python3",
      "display_name": "Python 3"
    },
    "language_info": {
      "name": "python"
    }
  },
  "cells": [
    {
      "cell_type": "code",
      "source": [
        "import pandas as pd #подключение библиотеки пандас\n",
        "import datetime #для работы с датами и временем"
      ],
      "metadata": {
        "id": "fbC694k-wcRX"
      },
      "execution_count": 2,
      "outputs": []
    },
    {
      "cell_type": "markdown",
      "source": [
        "Объект Series"
      ],
      "metadata": {
        "id": "NoG3iKK7x1Ih"
      }
    },
    {
      "cell_type": "code",
      "source": [
        "the_series=pd.Series([1,2,3,4,5]) #Series -- Столбец\n",
        "print(the_series) # Вывод the_series\n",
        "the_series # ТОЖЕ Вывод the_series, но короче."
      ],
      "metadata": {
        "colab": {
          "base_uri": "https://localhost:8080/"
        },
        "id": "IvZ3CxtHx-ua",
        "outputId": "6bb208b3-8479-4f0f-a379-0396dda7cb59"
      },
      "execution_count": 5,
      "outputs": [
        {
          "output_type": "stream",
          "name": "stdout",
          "text": [
            "0    1\n",
            "1    2\n",
            "2    3\n",
            "3    4\n",
            "4    5\n",
            "dtype: int64\n"
          ]
        },
        {
          "output_type": "execute_result",
          "data": {
            "text/plain": [
              "0    1\n",
              "1    2\n",
              "2    3\n",
              "3    4\n",
              "4    5\n",
              "dtype: int64"
            ]
          },
          "metadata": {},
          "execution_count": 5
        }
      ]
    },
    {
      "cell_type": "code",
      "source": [
        "# Вывод отдельных элементов series\n",
        "print(the_series[1]) # >>>2, т.к нумерация индекса начаниется с нуля\n",
        "print(the_series[1], the_series[4]) \n",
        "the_series[[1, 4]]"
      ],
      "metadata": {
        "colab": {
          "base_uri": "https://localhost:8080/"
        },
        "id": "-kbLiazby-X0",
        "outputId": "c261f75e-5baa-4b60-a8d3-b49128d34b4a"
      },
      "execution_count": 9,
      "outputs": [
        {
          "output_type": "stream",
          "name": "stdout",
          "text": [
            "2\n",
            "2 5\n"
          ]
        },
        {
          "output_type": "execute_result",
          "data": {
            "text/plain": [
              "1    2\n",
              "4    5\n",
              "dtype: int64"
            ]
          },
          "metadata": {},
          "execution_count": 9
        }
      ]
    },
    {
      "cell_type": "code",
      "source": [
        "# Создаём Series, задавая индекс в явном виде\n",
        "the_second_series=pd.Series([\"One\", \"Two\", \"Three\", \"Four\", \"Five\"],\n",
        "                            index=[\"I\", \"II\", \"III\", \"IV\", \"V\"])\n",
        "the_second_series"
      ],
      "metadata": {
        "colab": {
          "base_uri": "https://localhost:8080/"
        },
        "id": "YGAgzyLH0HHo",
        "outputId": "a271e665-3bc4-4f46-87b8-a4cf90cd2baa"
      },
      "execution_count": 13,
      "outputs": [
        {
          "output_type": "execute_result",
          "data": {
            "text/plain": [
              "I        One\n",
              "II       Two\n",
              "III    Three\n",
              "IV      Four\n",
              "V       Five\n",
              "dtype: object"
            ]
          },
          "metadata": {},
          "execution_count": 13
        }
      ]
    },
    {
      "cell_type": "code",
      "source": [
        "the_second_series[[\"II\", \"IV\"]]\n",
        "the_second_series.index # Вывод индекса отдельно от объекта"
      ],
      "metadata": {
        "colab": {
          "base_uri": "https://localhost:8080/"
        },
        "id": "Mr_hpU-f1M6E",
        "outputId": "3878fdf7-84b4-44ab-db2e-5e2122df85e7"
      },
      "execution_count": 16,
      "outputs": [
        {
          "output_type": "execute_result",
          "data": {
            "text/plain": [
              "Index(['I', 'II', 'III', 'IV', 'V'], dtype='object')"
            ]
          },
          "metadata": {},
          "execution_count": 16
        }
      ]
    },
    {
      "cell_type": "markdown",
      "source": [
        "Генератор DateTime"
      ],
      "metadata": {
        "id": "HWdjI-Kg145Y"
      }
    },
    {
      "cell_type": "code",
      "source": [
        "the_dates=pd.date_range(\"2022-01-01\", \"2022-09-26\")\n",
        "the_dates"
      ],
      "metadata": {
        "colab": {
          "base_uri": "https://localhost:8080/"
        },
        "id": "MZL5br-r18DO",
        "outputId": "e19bb53e-ba8a-4688-9d83-70d32be6a584"
      },
      "execution_count": 17,
      "outputs": [
        {
          "output_type": "execute_result",
          "data": {
            "text/plain": [
              "DatetimeIndex(['2022-01-01', '2022-01-02', '2022-01-03', '2022-01-04',\n",
              "               '2022-01-05', '2022-01-06', '2022-01-07', '2022-01-08',\n",
              "               '2022-01-09', '2022-01-10',\n",
              "               ...\n",
              "               '2022-09-17', '2022-09-18', '2022-09-19', '2022-09-20',\n",
              "               '2022-09-21', '2022-09-22', '2022-09-23', '2022-09-24',\n",
              "               '2022-09-25', '2022-09-26'],\n",
              "              dtype='datetime64[ns]', length=269, freq='D')"
            ]
          },
          "metadata": {},
          "execution_count": 17
        }
      ]
    }
  ]
}